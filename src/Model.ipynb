{
 "cells": [
  {
   "cell_type": "markdown",
   "metadata": {},
   "source": [
    "# MNIST Handwritten Digit Recognition in Keras"
   ]
  },
  {
   "cell_type": "code",
   "execution_count": 1,
   "metadata": {},
   "outputs": [],
   "source": [
    "import pandas as pd\n",
    "import numpy as np\n",
    "import os\n",
    "import matplotlib.pyplot as plt\n",
    "import tensorflow as tf\n",
    "mnist = tf.keras.datasets.mnist\n",
    "\n",
    "%matplotlib inline\n",
    "\n",
    "pd.set_option('display.max_rows', 500)\n",
    "pd.set_option('display.max_columns', 500)\n",
    "pd.set_option('display.width', 1000)\n",
    "\n",
    "PATH  = r\"C:\\Users\\jthan\\OneDrive\\Desktop\\2023\\PP\\MNIST\"\n",
    "os.chdir(PATH)\n",
    "\n",
    "(train_images, train_labels), (test_images, test_labels) = mnist.load_data()"
   ]
  },
  {
   "cell_type": "code",
   "execution_count": 2,
   "metadata": {},
   "outputs": [],
   "source": [
    "os.environ['PROTOCOL_BUFFERS_PYTHON_IMPLEMENTATION'] = 'python'"
   ]
  },
  {
   "cell_type": "markdown",
   "metadata": {},
   "source": [
    "## Data preprocessing"
   ]
  },
  {
   "cell_type": "code",
   "execution_count": 4,
   "metadata": {},
   "outputs": [],
   "source": [
    "from tensorflow.keras.utils import to_categorical\n",
    "\n",
    "RANDOM_STATE = 42\n",
    "\n",
    "# Invert the pixel values\n",
    "train_images = 255 - train_images\n",
    "test_images = 255 - test_images\n",
    "\n",
    "# Normalize the images.\n",
    "train_images = (train_images / 255) - 0.5\n",
    "test_images = (test_images / 255) - 0.5\n",
    "\n",
    "# Flatten the images.\n",
    "train_images = train_images.reshape((train_images.shape[0], 28 * 28))\n",
    "test_images = test_images.reshape((test_images.shape[0], 28 * 28))\n",
    "\n",
    "# one-hot encode the labels\n",
    "train_labels = to_categorical(train_labels, num_classes=10)\n",
    "test_labels = to_categorical(test_labels, num_classes=10)\n"
   ]
  },
  {
   "cell_type": "code",
   "execution_count": 5,
   "metadata": {},
   "outputs": [
    {
     "data": {
      "text/plain": [
       "(60000, 784)"
      ]
     },
     "execution_count": 5,
     "metadata": {},
     "output_type": "execute_result"
    }
   ],
   "source": [
    "train_images.shape"
   ]
  },
  {
   "cell_type": "markdown",
   "metadata": {},
   "source": [
    "## Model training"
   ]
  },
  {
   "cell_type": "code",
   "execution_count": 6,
   "metadata": {},
   "outputs": [
    {
     "name": "stdout",
     "output_type": "stream",
     "text": [
      "Model: \"sequential\"\n",
      "_________________________________________________________________\n",
      " Layer (type)                Output Shape              Param #   \n",
      "=================================================================\n",
      " dense (Dense)               (None, 512)               401920    \n",
      "                                                                 \n",
      " dense_1 (Dense)             (None, 256)               131328    \n",
      "                                                                 \n",
      " dense_2 (Dense)             (None, 10)                2570      \n",
      "                                                                 \n",
      "=================================================================\n",
      "Total params: 535,818\n",
      "Trainable params: 535,818\n",
      "Non-trainable params: 0\n",
      "_________________________________________________________________\n",
      "None\n",
      "Epoch 1/10\n",
      "1875/1875 [==============================] - 12s 6ms/step - loss: 0.2645 - accuracy: 0.9179 - val_loss: 0.2125 - val_accuracy: 0.9299\n",
      "Epoch 2/10\n",
      "1875/1875 [==============================] - 12s 6ms/step - loss: 0.1359 - accuracy: 0.9582 - val_loss: 0.1308 - val_accuracy: 0.9581\n",
      "Epoch 3/10\n",
      "1875/1875 [==============================] - 12s 6ms/step - loss: 0.1024 - accuracy: 0.9675 - val_loss: 0.1029 - val_accuracy: 0.9703\n",
      "Epoch 4/10\n",
      "1875/1875 [==============================] - 12s 6ms/step - loss: 0.0840 - accuracy: 0.9739 - val_loss: 0.0950 - val_accuracy: 0.9693\n",
      "Epoch 5/10\n",
      "1875/1875 [==============================] - 11s 6ms/step - loss: 0.0716 - accuracy: 0.9777 - val_loss: 0.1170 - val_accuracy: 0.9655\n",
      "Epoch 6/10\n",
      "1875/1875 [==============================] - 11s 6ms/step - loss: 0.0628 - accuracy: 0.9798 - val_loss: 0.0998 - val_accuracy: 0.9701\n",
      "Epoch 7/10\n",
      "1875/1875 [==============================] - 11s 6ms/step - loss: 0.0538 - accuracy: 0.9822 - val_loss: 0.0866 - val_accuracy: 0.9777\n",
      "Epoch 8/10\n",
      "1875/1875 [==============================] - 12s 7ms/step - loss: 0.0470 - accuracy: 0.9846 - val_loss: 0.1007 - val_accuracy: 0.9723\n",
      "Epoch 9/10\n",
      "1875/1875 [==============================] - 12s 6ms/step - loss: 0.0476 - accuracy: 0.9846 - val_loss: 0.0895 - val_accuracy: 0.9748\n",
      "Epoch 10/10\n",
      "1875/1875 [==============================] - 13s 7ms/step - loss: 0.0400 - accuracy: 0.9872 - val_loss: 0.0924 - val_accuracy: 0.9743\n",
      "313/313 [==============================] - 2s 5ms/step - loss: 0.0924 - accuracy: 0.9743\n",
      "Test Accuracy: 97.43%\n"
     ]
    }
   ],
   "source": [
    "model = tf.keras.models.Sequential([\n",
    "     tf.keras.layers.Dense(512, activation='relu', input_shape=(28*28,)),  \n",
    "     tf.keras.layers.Dense(256, activation='relu'),  \n",
    "     tf.keras.layers.Dense(10, activation='softmax') \n",
    "])\n",
    "\n",
    "model.compile(\n",
    "    optimizer='adam', \n",
    "    loss='categorical_crossentropy', \n",
    "    metrics=['accuracy']\n",
    ")\n",
    "\n",
    "print(model.summary())\n",
    "\n",
    "model.fit(train_images, train_labels, epochs=10, batch_size=32, validation_data=(test_images, test_labels))\n",
    "\n",
    "test_loss, test_acc = model.evaluate(test_images, test_labels)\n",
    "print(f\"Test Accuracy: {test_acc * 100:.2f}%\")"
   ]
  },
  {
   "cell_type": "markdown",
   "metadata": {},
   "source": [
    "## Hyperparameter Tuning"
   ]
  },
  {
   "cell_type": "code",
   "execution_count": 5,
   "metadata": {},
   "outputs": [
    {
     "ename": "ValueError",
     "evalue": "The truth value of an array with more than one element is ambiguous. Use a.any() or a.all()",
     "output_type": "error",
     "traceback": [
      "\u001b[1;31m---------------------------------------------------------------------------\u001b[0m",
      "\u001b[1;31mValueError\u001b[0m                                Traceback (most recent call last)",
      "\u001b[1;32mc:\\Users\\jthan\\OneDrive\\Desktop\\2023\\PP\\MNIST\\src\\Model.ipynb Cell 10\u001b[0m line \u001b[0;36m2\n\u001b[0;32m     <a href='vscode-notebook-cell:/c%3A/Users/jthan/OneDrive/Desktop/2023/PP/MNIST/src/Model.ipynb#X12sZmlsZQ%3D%3D?line=17'>18</a>\u001b[0m     plt\u001b[39m.\u001b[39maxis(\u001b[39m'\u001b[39m\u001b[39moff\u001b[39m\u001b[39m'\u001b[39m)\n\u001b[0;32m     <a href='vscode-notebook-cell:/c%3A/Users/jthan/OneDrive/Desktop/2023/PP/MNIST/src/Model.ipynb#X12sZmlsZQ%3D%3D?line=18'>19</a>\u001b[0m     plt\u001b[39m.\u001b[39mshow()\n\u001b[1;32m---> <a href='vscode-notebook-cell:/c%3A/Users/jthan/OneDrive/Desktop/2023/PP/MNIST/src/Model.ipynb#X12sZmlsZQ%3D%3D?line=20'>21</a>\u001b[0m visualize_vector(train_images[\u001b[39m0\u001b[39;49m], train_labels[\u001b[39m0\u001b[39;49m])\n",
      "\u001b[1;32mc:\\Users\\jthan\\OneDrive\\Desktop\\2023\\PP\\MNIST\\src\\Model.ipynb Cell 10\u001b[0m line \u001b[0;36m1\n\u001b[0;32m     <a href='vscode-notebook-cell:/c%3A/Users/jthan/OneDrive/Desktop/2023/PP/MNIST/src/Model.ipynb#X12sZmlsZQ%3D%3D?line=12'>13</a>\u001b[0m image_2d \u001b[39m=\u001b[39m image_vector\u001b[39m.\u001b[39mreshape((\u001b[39m28\u001b[39m, \u001b[39m28\u001b[39m))\n\u001b[0;32m     <a href='vscode-notebook-cell:/c%3A/Users/jthan/OneDrive/Desktop/2023/PP/MNIST/src/Model.ipynb#X12sZmlsZQ%3D%3D?line=14'>15</a>\u001b[0m plt\u001b[39m.\u001b[39mimshow(image_2d, cmap\u001b[39m=\u001b[39m\u001b[39m'\u001b[39m\u001b[39mgray\u001b[39m\u001b[39m'\u001b[39m)\n\u001b[1;32m---> <a href='vscode-notebook-cell:/c%3A/Users/jthan/OneDrive/Desktop/2023/PP/MNIST/src/Model.ipynb#X12sZmlsZQ%3D%3D?line=15'>16</a>\u001b[0m \u001b[39mif\u001b[39;00m prediction \u001b[39m!=\u001b[39;49m \u001b[39m999\u001b[39;49m:\n\u001b[0;32m     <a href='vscode-notebook-cell:/c%3A/Users/jthan/OneDrive/Desktop/2023/PP/MNIST/src/Model.ipynb#X12sZmlsZQ%3D%3D?line=16'>17</a>\u001b[0m     plt\u001b[39m.\u001b[39mtitle(\u001b[39mf\u001b[39m\u001b[39m'\u001b[39m\u001b[39mPrediction: \u001b[39m\u001b[39m{\u001b[39;00mprediction\u001b[39m}\u001b[39;00m\u001b[39m'\u001b[39m)\n\u001b[0;32m     <a href='vscode-notebook-cell:/c%3A/Users/jthan/OneDrive/Desktop/2023/PP/MNIST/src/Model.ipynb#X12sZmlsZQ%3D%3D?line=17'>18</a>\u001b[0m plt\u001b[39m.\u001b[39maxis(\u001b[39m'\u001b[39m\u001b[39moff\u001b[39m\u001b[39m'\u001b[39m)\n",
      "\u001b[1;31mValueError\u001b[0m: The truth value of an array with more than one element is ambiguous. Use a.any() or a.all()"
     ]
    },
    {
     "data": {
      "image/png": "[encoded data removed]",
      "text/plain": [
       "<Figure size 640x480 with 1 Axes>"
      ]
     },
     "metadata": {},
     "output_type": "display_data"
    }
   ],
   "source": [
    "def visualize_vector(image_vector, prediction:int = 999):\n",
    "    '''\n",
    "    Visualizes the image vector.\n",
    "    \n",
    "    Parameters:\n",
    "        image_vector (np.array): 1D array of the image.\n",
    "        \n",
    "    Returns:\n",
    "        None\n",
    "    '''\n",
    "    #assert image_vector.shape == (1,784)\n",
    "\n",
    "    image_2d = image_vector.reshape((28, 28))\n",
    "\n",
    "    plt.imshow(image_2d, cmap='gray')\n",
    "    if prediction != 999:\n",
    "        plt.title(f'Prediction: {prediction}')\n",
    "    plt.axis('off')\n",
    "    plt.show()\n",
    "\n",
    "visualize_vector(train_images[0], train_labels[0])"
   ]
  },
  {
   "cell_type": "markdown",
   "metadata": {},
   "source": [
    "## Export Model"
   ]
  },
  {
   "cell_type": "code",
   "execution_count": 7,
   "metadata": {},
   "outputs": [
    {
     "name": "stdout",
     "output_type": "stream",
     "text": [
      "INFO:tensorflow:Assets written to: models/model_savedmodel\\assets\n"
     ]
    }
   ],
   "source": [
    "model.save('models/model_savedmodel')"
   ]
  },
  {
   "cell_type": "code",
   "execution_count": null,
   "metadata": {},
   "outputs": [],
   "source": []
  }
 ],
 "metadata": {
  "kernelspec": {
   "display_name": "base",
   "language": "python",
   "name": "python3"
  },
  "language_info": {
   "codemirror_mode": {
    "name": "ipython",
    "version": 3
   },
   "file_extension": ".py",
   "mimetype": "text/x-python",
   "name": "python",
   "nbconvert_exporter": "python",
   "pygments_lexer": "ipython3",
   "version": "3.9.18"
  },
  "orig_nbformat": 4
 },
 "nbformat": 4,
 "nbformat_minor": 2
}
